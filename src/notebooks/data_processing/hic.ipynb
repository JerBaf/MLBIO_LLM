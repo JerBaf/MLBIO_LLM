{
 "cells": [
  {
   "cell_type": "markdown",
   "metadata": {},
   "source": [
    "# Hi-C Gene Graph"
   ]
  },
  {
   "cell_type": "markdown",
   "metadata": {},
   "source": [
    "### Packages"
   ]
  },
  {
   "cell_type": "code",
   "execution_count": 2,
   "metadata": {},
   "outputs": [],
   "source": [
    "import pandas as pd\n",
    "import numpy as np\n",
    "import matplotlib.pyplot as plt\n",
    "import seaborn as sns\n",
    "from itertools import permutations\n",
    "import json\n",
    "from scipy.sparse import csr_matrix, save_npz, load_npz"
   ]
  },
  {
   "cell_type": "markdown",
   "metadata": {},
   "source": [
    "### Helpers"
   ]
  },
  {
   "cell_type": "code",
   "execution_count": 2,
   "metadata": {},
   "outputs": [],
   "source": [
    "def format_chr(chromosome:str) -> int:\n",
    "    \"\"\"\n",
    "    \"\"\"\n",
    "    new_chr = chromosome.split('_')[0][3:]\n",
    "    new_chr = new_chr.replace('Un', '1')\n",
    "    new_chr = new_chr.replace('X', '23')\n",
    "    new_chr = new_chr.replace('Y', '24')\n",
    "    return int(new_chr)\n",
    "\n",
    "def process_gene_info(gene_df:pd.DataFrame,gene_mapping:dict) -> pd.DataFrame:\n",
    "    \"\"\"\n",
    "    \"\"\"\n",
    "    new_gene_df = gene_df.copy()\n",
    "    new_gene_df.columns = ['gene','chr','strand','tx_start','tx_end',\n",
    "                     'cds_start','cds_end','exon_cnt','exon_start',\n",
    "                     'exon_end','protein_id','align_id']\n",
    "    new_gene_df = new_gene_df[['gene','chr','tx_start','tx_end',]]\n",
    "    new_gene_df = new_gene_df.query('chr != \"chrM\"').copy()\n",
    "    new_gene_df['chr'] = new_gene_df['chr'].apply(lambda c: format_chr(c))\n",
    "    new_gene_df['gene'] = new_gene_df['gene'].apply(lambda g: g.split('.')[0])\n",
    "    new_gene_df = new_gene_df.query('gene in @gene_mapping').copy()\n",
    "    new_gene_df['gene'] = new_gene_df['gene'].apply(lambda g: gene_mapping[g])\n",
    "    return new_gene_df\n",
    "\n",
    "\n",
    "def add_combinations(interaction_dict:dict, genes:pd.DataFrame):\n",
    "    \"\"\"\n",
    "    \"\"\"\n",
    "    interactions = list(permutations(genes['gene'].to_list(),2))\n",
    "    interactions = [(gene_a,gene_b) if gene_a < gene_b else (gene_b,gene_a) for (gene_a,gene_b) in interactions]\n",
    "    for i in interactions:\n",
    "        if i not in interaction_dict:\n",
    "            interaction_dict[i] = 0\n",
    "        interaction_dict[i] += 1\n",
    "        \n",
    "        \n",
    "def populate_adjacency(go:pd.DataFrame, adjacency:np.array,\n",
    "                gene_to_id_mapping:dict, source_key='source',\n",
    "                target_key='target', importance_key='importance'):\n",
    "    \"\"\"\n",
    "    Populate ajdacency matrix using the given GO.\n",
    "    \n",
    "    :param go: Graph Ontology graph in Pandas DataFrame format.\n",
    "    :param adjacency: Adjancecy numpy matrix to populate\n",
    "    :param gene_to_id_mapping: Mapping of gene names to ids.\n",
    "    :param source_key: Key of source node in the GO.\n",
    "    :param target_key: Key of target node in the GO.\n",
    "    :param importance_key: Key of the importance of the weights in the GO.\n",
    "    \n",
    "    \"\"\"\n",
    "    s_ids = go[source_key].apply(lambda g: gene_to_id_mapping[g]).to_list()\n",
    "    t_ids = go[target_key].apply(lambda g: gene_to_id_mapping[g]).to_list()\n",
    "    weights = go[importance_key].to_numpy()\n",
    "    adjacency[s_ids,t_ids] = weights"
   ]
  },
  {
   "cell_type": "markdown",
   "metadata": {},
   "source": [
    "### Data"
   ]
  },
  {
   "cell_type": "code",
   "execution_count": 3,
   "metadata": {
    "scrolled": true
   },
   "outputs": [
    {
     "name": "stdout",
     "output_type": "stream",
     "text": [
      "There are 21593 genes in the cell2loc pipeline.\n",
      "There are 21317 genes in the Protein-Protein interaction graph.\n",
      "There are 19410 genes that overlap.\n",
      "There are 11417 genes in the Hi-C mouse data.\n"
     ]
    }
   ],
   "source": [
    "# Data from cell2loc pipeline\n",
    "with open(\"/scratch/jeremy/data/cell2loc/id2gene.json\") as f:\n",
    "    id2gene = json.load(f)\n",
    "with open(\"/scratch/jeremy/data/cell2loc/gene2id.json\") as f:\n",
    "    gene2id = json.load(f)\n",
    "cell2loc_raw_gene_list = list(gene2id.keys())\n",
    "cell2loc_gene_list = [g.upper() for g in cell2loc_raw_gene_list]\n",
    "cell2loc_num_genes = len(cell2loc_gene_list)\n",
    "print(f'There are {cell2loc_num_genes} genes in the cell2loc pipeline.')\n",
    "# Data from protein-protein interactions\n",
    "# Gene informations\n",
    "gene_info = pd.read_csv(\"/scratch/jeremy/data/graphs/proteins/10090.protein.info.v11.5.txt\",sep='\\t')\n",
    "gene_info.columns = ['ENS_protein_id','protein_name','protein_size','annotation']\n",
    "gene_info['protein_name'] = gene_info['protein_name'].apply(lambda p: p.upper())\n",
    "gene_mapping = dict(zip(gene_info['ENS_protein_id'],gene_info['protein_name']))\n",
    "# Protein links\n",
    "gene_links = pd.read_csv(\"/scratch/jeremy/data/graphs/proteins/10090.protein.links.v11.5.txt\",sep=' ')\n",
    "gene_links.columns = ['source','target','importance']\n",
    "gene_links['source'] = gene_links['source'].apply(lambda p: gene_mapping[p])\n",
    "gene_links['target'] = gene_links['target'].apply(lambda p: gene_mapping[p])\n",
    "gene_links['importance'] = (gene_links['importance'] + 1 - gene_links['importance'].min()\n",
    "                           ) / (gene_links['importance'].max() - gene_links['importance'].min()) # min-max norm with smoothing\n",
    "p2p_gene_list = list(set(gene_links.source))\n",
    "print(f'There are {len(p2p_gene_list)} genes in the Protein-Protein interaction graph.')\n",
    "# Intersection of datasets\n",
    "inter_gene_set = set(cell2loc_gene_list).intersection(p2p_gene_list)\n",
    "print(f'There are {len(inter_gene_set)} genes that overlap.')\n",
    "hic_gene2id = dict(zip(cell2loc_gene_list,gene2id.values()))\n",
    "# Mouse Gene Location\n",
    "hic_mapping = dict([(idx.split('.')[-1].replace('P','T'),gene) for \n",
    "                   idx,gene in gene_mapping.items() if gene in inter_gene_set])\n",
    "gene_info_path = \"/mlbiodata1/baffou/data/HiC/mm10_gene_locations.csv\"\n",
    "gene_info = pd.read_csv(gene_info_path,sep=\"\\t\")\n",
    "gene_info = process_gene_info(gene_info,hic_mapping)\n",
    "print(f'There are {len(gene_info)} genes in the Hi-C mouse data.')"
   ]
  },
  {
   "cell_type": "code",
   "execution_count": 4,
   "metadata": {},
   "outputs": [],
   "source": [
    "# Extract TAD data\n",
    "tad_paths = [\"/mlbiodata1/baffou/data/HiC/TAD/mm10/G1E-ER4.rep1-raw.domains\",\n",
    "            \"/mlbiodata1/baffou/data/HiC/TAD/mm10/G1E-ER4.rep2-raw.domains\",\n",
    "            \"/mlbiodata1/baffou/data/HiC/TAD/mm10/Myoblast.Doynova_2017-raw.domains\",\n",
    "            \"/mlbiodata1/baffou/data/HiC/TAD/mm10/NPC.Bonev_2017-raw.domains\",\n",
    "            \"/mlbiodata1/baffou/data/HiC/TAD/mm10/Neuron.Jiang_2017-raw.domains\",\n",
    "            \"/mlbiodata1/baffou/data/HiC/TAD/mm10/Neuron_Cortical.Bonev_2017-raw.domains\",\n",
    "            \"/mlbiodata1/baffou/data/HiC/TAD/mm10/Neuron_Setdb1_KO.Jiang_2017-raw.domains\",\n",
    "            \"/mlbiodata1/baffou/data/HiC/TAD/mm10/mESC.Bonev_2017-raw.domains\"]\n",
    "tad_list = []\n",
    "for path in tad_paths:\n",
    "    tad = pd.read_csv(path,names=['chr','start','end'],sep=\"\\t\")\n",
    "    if tad['chr'].dtype != 'int64':\n",
    "        tad['chr'] = tad['chr'].apply(lambda c: format_chr(c))\n",
    "    tad_list.append(tad)"
   ]
  },
  {
   "cell_type": "code",
   "execution_count": 5,
   "metadata": {},
   "outputs": [],
   "source": [
    "# Store Interactions\n",
    "interactions = dict()\n",
    "for tad_df in tad_list:\n",
    "    for chromosome in range(1,25):\n",
    "        chr_tad = tad_df.query('chr == @chromosome').sort_values('start')\n",
    "        chr_genes = gene_info.query('chr == @chromosome')\n",
    "        for idx, single_domain in chr_tad.iterrows():\n",
    "            add_combinations(interactions,\n",
    "                chr_genes.query('tx_start > @single_domain.start & tx_end < @single_domain.end'))"
   ]
  },
  {
   "cell_type": "code",
   "execution_count": 6,
   "metadata": {},
   "outputs": [],
   "source": [
    "# Reduce redundancy (a,b) (b,a)\n",
    "filtered_interactions = dict()\n",
    "for interaction, occurence_nb in interactions.items():\n",
    "    filtered_interactions[interaction] = occurence_nb//2"
   ]
  },
  {
   "cell_type": "code",
   "execution_count": 7,
   "metadata": {},
   "outputs": [],
   "source": [
    "# Filter interaction in a single file\n",
    "hic_df = pd.DataFrame(filtered_interactions.keys(),columns=['source','target'])\n",
    "hic_df['importance'] = filtered_interactions.values()\n",
    "hic_df = hic_df.query('importance > 1').copy()\n",
    "importance_max = hic_df['importance'].max()\n",
    "hic_df['importance'] = hic_df['importance'].apply(lambda i: i/importance_max)"
   ]
  },
  {
   "cell_type": "markdown",
   "metadata": {},
   "source": [
    "### Hi-C graph"
   ]
  },
  {
   "cell_type": "code",
   "execution_count": 8,
   "metadata": {},
   "outputs": [],
   "source": [
    "cell2loc_hic_graph = hic_df.query('source in @inter_gene_set and target in @inter_gene_set')"
   ]
  },
  {
   "cell_type": "code",
   "execution_count": 9,
   "metadata": {},
   "outputs": [],
   "source": [
    "cell2loc_adjacency = np.zeros((cell2loc_num_genes,cell2loc_num_genes))"
   ]
  },
  {
   "cell_type": "code",
   "execution_count": 10,
   "metadata": {},
   "outputs": [],
   "source": [
    "populate_adjacency(cell2loc_hic_graph,cell2loc_adjacency,hic_gene2id)"
   ]
  },
  {
   "cell_type": "code",
   "execution_count": 11,
   "metadata": {},
   "outputs": [],
   "source": [
    "cell2loc_adjacency = csr_matrix(cell2loc_adjacency)"
   ]
  },
  {
   "cell_type": "code",
   "execution_count": 12,
   "metadata": {},
   "outputs": [],
   "source": [
    "save_npz(\"/scratch/jeremy/data/graphs/cell2loc/adjacency_hic_matrix.npz\",cell2loc_adjacency)"
   ]
  },
  {
   "cell_type": "markdown",
   "metadata": {},
   "source": [
    "---"
   ]
  }
 ],
 "metadata": {
  "kernelspec": {
   "display_name": "Python 3 (ipykernel)",
   "language": "python",
   "name": "python3"
  },
  "language_info": {
   "codemirror_mode": {
    "name": "ipython",
    "version": 3
   },
   "file_extension": ".py",
   "mimetype": "text/x-python",
   "name": "python",
   "nbconvert_exporter": "python",
   "pygments_lexer": "ipython3",
   "version": "3.8.16"
  }
 },
 "nbformat": 4,
 "nbformat_minor": 4
}
