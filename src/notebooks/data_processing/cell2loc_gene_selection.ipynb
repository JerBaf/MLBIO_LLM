{
 "cells": [
  {
   "cell_type": "markdown",
   "id": "9110af98",
   "metadata": {},
   "source": [
    "# Cell2loc Genes Selection"
   ]
  },
  {
   "cell_type": "markdown",
   "id": "36f35b83",
   "metadata": {},
   "source": [
    "### Packages"
   ]
  },
  {
   "cell_type": "code",
   "execution_count": 1,
   "id": "f04721d7",
   "metadata": {},
   "outputs": [],
   "source": [
    "import scanpy as sc\n",
    "import anndata\n",
    "import numpy as np\n",
    "import pandas as pd\n",
    "import networkx as nx\n",
    "import json\n",
    "from scipy.sparse import csr_matrix, load_npz"
   ]
  },
  {
   "cell_type": "code",
   "execution_count": 8,
   "id": "ef8c1298",
   "metadata": {},
   "outputs": [],
   "source": [
    "a = pd.read_csv('/scratch/jeremy/data/cell2loc/ood_mousehippocampus.csv')"
   ]
  },
  {
   "cell_type": "code",
   "execution_count": 13,
   "id": "35d929af",
   "metadata": {},
   "outputs": [
    {
     "data": {
      "text/plain": [
       "subclass\n",
       "DG        316\n",
       "CA1       157\n",
       "Oligo     109\n",
       "Astro      72\n",
       "Thal       51\n",
       "Endo       38\n",
       "Inhib      31\n",
       "CA3        29\n",
       "Cortex     18\n",
       "Micro      18\n",
       "Name: count, dtype: int64"
      ]
     },
     "execution_count": 13,
     "metadata": {},
     "output_type": "execute_result"
    }
   ],
   "source": [
    "a.subclass.value_counts()"
   ]
  },
  {
   "cell_type": "markdown",
   "id": "7688669b",
   "metadata": {},
   "source": [
    "### Data"
   ]
  },
  {
   "cell_type": "code",
   "execution_count": 7,
   "id": "1e793e73",
   "metadata": {},
   "outputs": [],
   "source": [
    "# Gene Expression data\n",
    "data = pd.read_csv('/scratch/jeremy/data/cell2loc/ood_mousehippocampus.csv')\n",
    "# Gene mapping data\n",
    "with open('/scratch/jeremy/data/cell2loc/gene2id.json','r') as f:\n",
    "    gene2id = json.load(f)"
   ]
  },
  {
   "cell_type": "markdown",
   "id": "4826aeed",
   "metadata": {},
   "source": [
    "### Helpers"
   ]
  },
  {
   "cell_type": "code",
   "execution_count": 3,
   "id": "d0b45561",
   "metadata": {},
   "outputs": [],
   "source": [
    "def rank_genes(adata, label_key, q_val=0.1, method='t-test', n_genes=100, plot=False):\n",
    "    \"\"\"Add to anndata object ranking for the highly differential genes in each cluster.\n",
    "    label_key: cluster labels key\n",
    "    return: differentially expressed genes of each cluster\n",
    "    \"\"\"\n",
    "    sc.tl.rank_genes_groups(adata, label_key, method=method, n_genes=n_genes)\n",
    "             \n",
    "    uniq = np.unique(adata.obs[label_key].values)\n",
    "    ranked_genes = {}\n",
    "    \n",
    "    for idx_c, clust in enumerate(uniq):\n",
    "        curr_genes = [entry[idx_c] for idx, entry in enumerate(adata.uns['rank_genes_groups']['names'])\n",
    "                  if adata.uns['rank_genes_groups']['pvals_adj'][idx][idx_c]<q_val]\n",
    "        pvals = [adata.uns['rank_genes_groups']['pvals_adj'][idx][idx_c] for idx, entry in enumerate(adata.uns['rank_genes_groups']['names'])\n",
    "                  if adata.uns['rank_genes_groups']['pvals_adj'][idx][idx_c]<q_val]\n",
    "        ranked_genes[clust] = {g:pvals[idx] for idx, g in enumerate(curr_genes)}\n",
    "        \n",
    "    return ranked_genes"
   ]
  },
  {
   "cell_type": "markdown",
   "id": "12295f1c",
   "metadata": {},
   "source": [
    "### Pipeline"
   ]
  },
  {
   "cell_type": "code",
   "execution_count": 4,
   "id": "ae424125",
   "metadata": {},
   "outputs": [],
   "source": [
    "gene_names = [g for g in list(data.columns[1:-3]) if g in gene2id]\n",
    "obs_names = data['Unnamed: 0'].to_list()\n",
    "obs = data[['Unnamed: 0','coord_X','coord_Y','subclass']].copy()\n",
    "obs.columns = ['obs_name','coord_X','coord_Y','subclass']\n",
    "obs['group'] = [0]*len(obs)\n",
    "obs['group'] = obs['group'].astype('category')\n",
    "obs = obs.set_index('obs_name')\n",
    "X = data[gene_names].to_numpy()"
   ]
  },
  {
   "cell_type": "code",
   "execution_count": 5,
   "id": "26a42dab",
   "metadata": {},
   "outputs": [],
   "source": [
    "adata = sc.AnnData(X=X)\n",
    "adata.var_names = gene_names\n",
    "adata.obs_names = obs_names\n",
    "adata.obs = obs"
   ]
  },
  {
   "cell_type": "code",
   "execution_count": 6,
   "id": "995f89f0",
   "metadata": {},
   "outputs": [],
   "source": [
    "diff_exp = rank_genes(adata, 'subclass', q_val=0.05, n_genes=124) #n_genes=124 to have > 1000 genes"
   ]
  },
  {
   "cell_type": "code",
   "execution_count": 7,
   "id": "225beb24",
   "metadata": {},
   "outputs": [
    {
     "name": "stdout",
     "output_type": "stream",
     "text": [
      "We selected 1005 genes\n"
     ]
    }
   ],
   "source": [
    "selected_genes = []\n",
    "for c in diff_exp.keys():\n",
    "    for g,score in diff_exp[c].items():\n",
    "        selected_genes.append(g)\n",
    "selected_genes = list(set(selected_genes))\n",
    "print(f'We selected {len(selected_genes)} genes')"
   ]
  },
  {
   "cell_type": "code",
   "execution_count": 8,
   "id": "01fcf058",
   "metadata": {},
   "outputs": [],
   "source": [
    "with open('/scratch/jeremy/data/cell2loc/selected_genes_names.json','x') as f:\n",
    "    json.dump(selected_genes,f)"
   ]
  },
  {
   "cell_type": "markdown",
   "id": "858fe3ff",
   "metadata": {},
   "source": [
    "---"
   ]
  },
  {
   "cell_type": "markdown",
   "id": "471db967",
   "metadata": {},
   "source": [
    "### Proportion of the selected genes covered by the adjacency matrix"
   ]
  },
  {
   "cell_type": "code",
   "execution_count": 34,
   "id": "7878be8c",
   "metadata": {},
   "outputs": [],
   "source": [
    "from itertools import permutations"
   ]
  },
  {
   "cell_type": "code",
   "execution_count": 35,
   "id": "04f47811",
   "metadata": {},
   "outputs": [],
   "source": [
    "adj = load_npz('/mlbiodata1/baffou/data/cell2loc/adjacency_p2p_and_hic_matrix.npz')"
   ]
  },
  {
   "cell_type": "code",
   "execution_count": 36,
   "id": "b5b4f544",
   "metadata": {},
   "outputs": [],
   "source": [
    "adj = adj.toarray()"
   ]
  },
  {
   "cell_type": "code",
   "execution_count": 37,
   "id": "5484d7c2",
   "metadata": {},
   "outputs": [],
   "source": [
    "with open('/scratch/jeremy/data/cell2loc/selected_genes_names.json','r') as f:\n",
    "    selected_genes = json.load(f)"
   ]
  },
  {
   "cell_type": "code",
   "execution_count": 11,
   "id": "7f6cf8df",
   "metadata": {},
   "outputs": [],
   "source": [
    "selected_genes_ids = [gene2id[g] for g in selected_genes]"
   ]
  },
  {
   "cell_type": "code",
   "execution_count": 23,
   "id": "c4124370",
   "metadata": {},
   "outputs": [],
   "source": [
    "interactions = list(permutations(selected_genes_ids,2))\n",
    "inter_a = [a for a,b in interactions]\n",
    "inter_b = [b for a,b in interactions]"
   ]
  },
  {
   "cell_type": "code",
   "execution_count": 33,
   "id": "a33a8eb3",
   "metadata": {},
   "outputs": [
    {
     "name": "stdout",
     "output_type": "stream",
     "text": [
      "There is 0.13589324294860358 of the interaction covered by the adjacency matrix\n"
     ]
    }
   ],
   "source": [
    "print(f'There is {(a[inter_a,inter_b] != 0).sum() / len(a[inter_a,inter_b])} of the interaction covered by the adjacency matrix') "
   ]
  }
 ],
 "metadata": {
  "kernelspec": {
   "display_name": "Python 3 (ipykernel)",
   "language": "python",
   "name": "python3"
  },
  "language_info": {
   "codemirror_mode": {
    "name": "ipython",
    "version": 3
   },
   "file_extension": ".py",
   "mimetype": "text/x-python",
   "name": "python",
   "nbconvert_exporter": "python",
   "pygments_lexer": "ipython3",
   "version": "3.8.16"
  }
 },
 "nbformat": 4,
 "nbformat_minor": 5
}
