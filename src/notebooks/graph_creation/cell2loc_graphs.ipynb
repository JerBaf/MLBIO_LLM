{
 "cells": [
  {
   "cell_type": "markdown",
   "metadata": {},
   "source": [
    "# Cell2Loc"
   ]
  },
  {
   "cell_type": "markdown",
   "metadata": {},
   "source": [
    "### Packages"
   ]
  },
  {
   "cell_type": "code",
   "execution_count": 24,
   "metadata": {},
   "outputs": [],
   "source": [
    "import numpy as np\n",
    "import pandas as pd\n",
    "import networkx as nx\n",
    "import seaborn as sns\n",
    "import json\n",
    "import matplotlib.pyplot as plt\n",
    "from scipy.sparse import csr_matrix, save_npz"
   ]
  },
  {
   "cell_type": "markdown",
   "metadata": {},
   "source": [
    "## Helpers"
   ]
  },
  {
   "cell_type": "code",
   "execution_count": 2,
   "metadata": {},
   "outputs": [],
   "source": [
    "def populate_adjacency(go:pd.DataFrame, adjacency:np.array,\n",
    "                gene_to_id_mapping:dict, source_key='source',\n",
    "                target_key='target', importance_key='importance'):\n",
    "    \"\"\"\n",
    "    Populate ajdacency matrix using the given GO.\n",
    "    \n",
    "    :param go: Graph Ontology graph in Pandas DataFrame format.\n",
    "    :param adjacency: Adjancecy numpy matrix to populate\n",
    "    :param gene_to_id_mapping: Mapping of gene names to ids.\n",
    "    :param source_key: Key of source node in the GO.\n",
    "    :param target_key: Key of target node in the GO.\n",
    "    :param importance_key: Key of the importance of the weights in the GO.\n",
    "    \n",
    "    \"\"\"\n",
    "    s_ids = go[source_key].apply(lambda g: gene_to_id_mapping[g]).to_list()\n",
    "    t_ids = go[target_key].apply(lambda g: gene_to_id_mapping[g]).to_list()\n",
    "    weights = go[importance_key].to_numpy()\n",
    "    adjacency[s_ids,t_ids] = weights"
   ]
  },
  {
   "cell_type": "markdown",
   "metadata": {},
   "source": [
    "## Gene Ontology"
   ]
  },
  {
   "cell_type": "markdown",
   "metadata": {},
   "source": [
    "### Data"
   ]
  },
  {
   "cell_type": "code",
   "execution_count": 2,
   "metadata": {},
   "outputs": [
    {
     "name": "stdout",
     "output_type": "stream",
     "text": [
      "There are 21593 genes in the cell2loc pipeline.\n",
      "There are 9853 genes in the GEARS pipeline.\n",
      "There are 8765 genes that overlap.\n"
     ]
    }
   ],
   "source": [
    "# Data from cell2loc pipeline\n",
    "with open(\"/scratch/jeremy/data/cell2loc/id2gene.json\") as f:\n",
    "    id2gene = json.load(f)\n",
    "with open(\"/scratch/jeremy/data/cell2loc/gene2id.json\") as f:\n",
    "    gene2id = json.load(f)\n",
    "cell2loc_raw_gene_list = list(gene2id.keys())\n",
    "cell2loc_gene_list = [g.upper() for g in cell2loc_raw_gene_list]\n",
    "cell2loc_num_genes = len(cell2loc_gene_list)\n",
    "print(f'There are {cell2loc_num_genes} genes in the cell2loc pipeline.')\n",
    "# Data from gears\n",
    "gears_go = pd.read_csv(\"/scratch/jeremy/data/graphs/raw/GEARS_basic_GO.csv\")\n",
    "gears_gene_list = list(set(gears_go.source))\n",
    "print(f'There are {len(gears_gene_list)} genes in the GEARS pipeline.')\n",
    "# Intersection of datasets\n",
    "inter_gene_set = set(cell2loc_gene_list).intersection(gears_gene_list)\n",
    "print(f'There are {len(inter_gene_set)} genes that overlap.')\n",
    "go_gene2id = dict(zip(cell2loc_gene_list,gene2id.values()))"
   ]
  },
  {
   "cell_type": "markdown",
   "metadata": {},
   "source": [
    "### Gene Ontology Graph "
   ]
  },
  {
   "cell_type": "code",
   "execution_count": 15,
   "metadata": {},
   "outputs": [],
   "source": [
    "cell2loc_go = gears_go.query('source in @inter_gene_set and target in @inter_gene_set')"
   ]
  },
  {
   "cell_type": "code",
   "execution_count": 16,
   "metadata": {},
   "outputs": [],
   "source": [
    "cell2loc_adjacency = np.zeros((cell2loc_num_genes,cell2loc_num_genes))"
   ]
  },
  {
   "cell_type": "code",
   "execution_count": 22,
   "metadata": {},
   "outputs": [],
   "source": [
    "populate_adjacency(cell2loc_go,cell2loc_adjacency,go_gene2id)"
   ]
  },
  {
   "cell_type": "code",
   "execution_count": 23,
   "metadata": {},
   "outputs": [],
   "source": [
    "cell2loc_adjacency = csr_matrix(cell2loc_adjacency)"
   ]
  },
  {
   "cell_type": "code",
   "execution_count": 25,
   "metadata": {},
   "outputs": [],
   "source": [
    "save_npz(\"/scratch/jeremy/data/graphs/cell2loc/adjacency_matrix.npz\",cell2loc_adjacency)"
   ]
  },
  {
   "cell_type": "markdown",
   "metadata": {},
   "source": [
    "## Protein-Protein interaction graph"
   ]
  },
  {
   "cell_type": "markdown",
   "metadata": {},
   "source": [
    "### Data"
   ]
  },
  {
   "cell_type": "code",
   "execution_count": 2,
   "metadata": {},
   "outputs": [
    {
     "name": "stdout",
     "output_type": "stream",
     "text": [
      "There are 21593 genes in the cell2loc pipeline.\n",
      "There are 21317 genes in the Protein-Protein interaction graph.\n",
      "There are 19410 genes that overlap.\n"
     ]
    }
   ],
   "source": [
    "# Data from cell2loc pipeline\n",
    "with open(\"/scratch/jeremy/data/cell2loc/id2gene.json\") as f:\n",
    "    id2gene = json.load(f)\n",
    "with open(\"/scratch/jeremy/data/cell2loc/gene2id.json\") as f:\n",
    "    gene2id = json.load(f)\n",
    "cell2loc_raw_gene_list = list(gene2id.keys())\n",
    "cell2loc_gene_list = [g.upper() for g in cell2loc_raw_gene_list]\n",
    "cell2loc_num_genes = len(cell2loc_gene_list)\n",
    "print(f'There are {cell2loc_num_genes} genes in the cell2loc pipeline.')\n",
    "# Data from protein-protein interactions\n",
    "# Gene informations\n",
    "gene_info = pd.read_csv(\"/scratch/jeremy/data/graphs/proteins/10090.protein.info.v11.5.txt\",sep='\\t')\n",
    "gene_info.columns = ['ENS_protein_id','protein_name','protein_size','annotation']\n",
    "gene_info['protein_name'] = gene_info['protein_name'].apply(lambda p: p.upper())\n",
    "gene_mapping = dict(zip(gene_info['ENS_protein_id'],gene_info['protein_name']))\n",
    "# Protein links\n",
    "gene_links = pd.read_csv(\"/scratch/jeremy/data/graphs/proteins/10090.protein.links.v11.5.txt\",sep=' ')\n",
    "gene_links.columns = ['source','target','importance']\n",
    "gene_links['source'] = gene_links['source'].apply(lambda p: gene_mapping[p])\n",
    "gene_links['target'] = gene_links['target'].apply(lambda p: gene_mapping[p])\n",
    "gene_links['importance'] = (gene_links['importance'] + 1 - gene_links['importance'].min()\n",
    "                           ) / (gene_links['importance'].max() - gene_links['importance'].min()) # min-max norm with smoothing\n",
    "p2p_gene_list = list(set(gene_links.source))\n",
    "print(f'There are {len(p2p_gene_list)} genes in the Protein-Protein interaction graph.')\n",
    "# Intersection of datasets\n",
    "inter_gene_set = set(cell2loc_gene_list).intersection(p2p_gene_list)\n",
    "print(f'There are {len(inter_gene_set)} genes that overlap.')\n",
    "p2p_gene2id = dict(zip(cell2loc_gene_list,gene2id.values()))"
   ]
  },
  {
   "cell_type": "markdown",
   "metadata": {},
   "source": [
    "### Protein-protein graph"
   ]
  },
  {
   "cell_type": "code",
   "execution_count": 4,
   "metadata": {},
   "outputs": [],
   "source": [
    "cell2loc_p2p_graph = gene_links.query('source in @inter_gene_set and target in @inter_gene_set')"
   ]
  },
  {
   "cell_type": "code",
   "execution_count": 5,
   "metadata": {},
   "outputs": [],
   "source": [
    "cell2loc_adjacency = np.zeros((cell2loc_num_genes,cell2loc_num_genes))"
   ]
  },
  {
   "cell_type": "code",
   "execution_count": 6,
   "metadata": {},
   "outputs": [],
   "source": [
    "populate_adjacency(cell2loc_p2p_graph,cell2loc_adjacency,p2p_gene2id)"
   ]
  },
  {
   "cell_type": "code",
   "execution_count": 7,
   "metadata": {},
   "outputs": [],
   "source": [
    "# If we want to add the relative positional encoding with itself\n",
    "# cell2loc_adjacency[range(len(cell2loc_num_genes)),range(len(cell2loc_num_genes))] = 1"
   ]
  },
  {
   "cell_type": "code",
   "execution_count": 8,
   "metadata": {},
   "outputs": [],
   "source": [
    "cell2loc_adjacency = csr_matrix(cell2loc_adjacency)"
   ]
  },
  {
   "cell_type": "code",
   "execution_count": 9,
   "metadata": {},
   "outputs": [],
   "source": [
    "save_npz(\"/scratch/jeremy/data/graphs/cell2loc/adjacency_p2p_matrix.npz\",cell2loc_adjacency)"
   ]
  },
  {
   "cell_type": "markdown",
   "metadata": {},
   "source": [
    "---"
   ]
  },
  {
   "cell_type": "code",
   "execution_count": 10,
   "metadata": {},
   "outputs": [
    {
     "data": {
      "text/plain": [
       "<matplotlib.axes._subplots.AxesSubplot at 0x7f4155c35b90>"
      ]
     },
     "execution_count": 10,
     "metadata": {},
     "output_type": "execute_result"
    },
    {
     "data": {
      "image/png": "[encoded data removed]",
      "text/plain": [
       "<Figure size 432x288 with 1 Axes>"
      ]
     },
     "metadata": {
      "needs_background": "light"
     },
     "output_type": "display_data"
    }
   ],
   "source": [
    "gene_links.importance.hist(bins=30)"
   ]
  }
 ],
 "metadata": {
  "kernelspec": {
   "display_name": "Python 3 (ipykernel)",
   "language": "python",
   "name": "python3"
  },
  "language_info": {
   "codemirror_mode": {
    "name": "ipython",
    "version": 3
   },
   "file_extension": ".py",
   "mimetype": "text/x-python",
   "name": "python",
   "nbconvert_exporter": "python",
   "pygments_lexer": "ipython3",
   "version": "3.8.16"
  }
 },
 "nbformat": 4,
 "nbformat_minor": 4
}
