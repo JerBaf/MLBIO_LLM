{
 "cells": [
  {
   "cell_type": "markdown",
   "id": "0d152854",
   "metadata": {},
   "source": [
    "# GEARS Graphs Creation"
   ]
  },
  {
   "cell_type": "markdown",
   "id": "edc9e7d2",
   "metadata": {},
   "source": [
    "### Packages"
   ]
  },
  {
   "cell_type": "code",
   "execution_count": 1,
   "id": "df1672a6",
   "metadata": {},
   "outputs": [],
   "source": [
    "import torch\n",
    "import numpy as np\n",
    "import pandas as pd\n",
    "import networkx as nx\n",
    "from tqdm import tqdm\n",
    "import scanpy as sc\n",
    "import pickle\n",
    "import sys, os\n",
    "import requests\n",
    "from torch_geometric.data import Data\n",
    "from zipfile import ZipFile\n",
    "import tarfile\n",
    "import matplotlib.pyplot as plt"
   ]
  },
  {
   "cell_type": "markdown",
   "id": "1f20daf1",
   "metadata": {},
   "source": [
    "## Co-Expression"
   ]
  },
  {
   "cell_type": "code",
   "execution_count": 2,
   "id": "47f96b71",
   "metadata": {},
   "outputs": [],
   "source": [
    "with open(\"/scratch/jeremy/data/graphs/raw/gene_to_id.pkl\", 'rb') as handle:\n",
    "    node_map = pickle.load(handle)"
   ]
  },
  {
   "cell_type": "code",
   "execution_count": 11,
   "id": "9f7a407d",
   "metadata": {},
   "outputs": [],
   "source": [
    "edge_list = pd.read_csv(\"/scratch/jeremy/data/graphs/mca_GEARS_kidney_lung_train/0.2_20_co_expression_network.csv\")\n",
    "co_expr_network = GeneSimNetwork(edge_list, node_map)\n",
    "G_coexpress = co_expr_network.edge_index\n",
    "G_coexpress_weight = co_expr_network.edge_weight"
   ]
  },
  {
   "cell_type": "code",
   "execution_count": 12,
   "id": "2d3f4cb6",
   "metadata": {},
   "outputs": [
    {
     "data": {
      "text/plain": [
       "torch.Size([2, 46092])"
      ]
     },
     "execution_count": 12,
     "metadata": {},
     "output_type": "execute_result"
    }
   ],
   "source": [
    "G_coexpress.shape"
   ]
  },
  {
   "cell_type": "code",
   "execution_count": 13,
   "id": "9a19a6b0",
   "metadata": {},
   "outputs": [
    {
     "data": {
      "text/plain": [
       "torch.Size([46092])"
      ]
     },
     "execution_count": 13,
     "metadata": {},
     "output_type": "execute_result"
    }
   ],
   "source": [
    "G_coexpress_weight.shape"
   ]
  },
  {
   "cell_type": "markdown",
   "id": "d6d907ae",
   "metadata": {},
   "source": [
    "### GEARS Method"
   ]
  },
  {
   "cell_type": "code",
   "execution_count": 6,
   "id": "56be37f3",
   "metadata": {},
   "outputs": [],
   "source": [
    "def np_pearson_cor(x, y):\n",
    "    xv = x - x.mean(axis=0)\n",
    "    yv = y - y.mean(axis=0)\n",
    "    xvss = (xv * xv).sum(axis=0)\n",
    "    yvss = (yv * yv).sum(axis=0)\n",
    "    result = np.matmul(xv.transpose(), yv) / np.sqrt(np.outer(xvss, yvss))\n",
    "    # bound the values to -1 to 1 in the event of precision issues\n",
    "    return np.maximum(np.minimum(result, 1.0), -1.0)\n",
    "\n",
    "def get_coexpression_network_from_train(adata, threshold, k, data_path,\n",
    "                                        data_name):\n",
    "    \n",
    "    fname = os.path.join(os.path.join(data_path, data_name),\n",
    "                         str(threshold) + '_' + str(k) + '_co_expression_network.csv')\n",
    "    \n",
    "    if os.path.exists(fname):\n",
    "        return pd.read_csv(fname)\n",
    "    else:\n",
    "        gene_list = [f for f in adata.var.reset_index()[\"index\"].values]\n",
    "        idx2gene = dict(zip(range(len(gene_list)), gene_list)) \n",
    "        X_tr = adata.X\n",
    "        gene_list = adata.var.reset_index()[\"index\"].values\n",
    "\n",
    "        X_tr = X_tr.toarray()\n",
    "        out = np_pearson_cor(X_tr, X_tr)\n",
    "        out[np.isnan(out)] = 0\n",
    "        out = np.abs(out)\n",
    "        \n",
    "        out_sort_idx = np.argsort(out)[:, -(k + 1):]\n",
    "        out_sort_val = np.sort(out)[:, -(k + 1):]\n",
    "\n",
    "        df_g = []\n",
    "        for i in range(out_sort_idx.shape[0]):\n",
    "            target = idx2gene[i]\n",
    "            for j in range(out_sort_idx.shape[1]):\n",
    "                df_g.append((idx2gene[out_sort_idx[i, j]], target, out_sort_val[i, j]))\n",
    "\n",
    "        df_g = [i for i in df_g if i[2] > threshold]\n",
    "        df_co_expression = pd.DataFrame(df_g).rename(columns = {0: 'source',\n",
    "                                                                1: 'target',\n",
    "                                                                2: 'importance'})\n",
    "        df_co_expression.to_csv(fname, index = False)\n",
    "        return df_co_expression"
   ]
  },
  {
   "cell_type": "markdown",
   "id": "f5826cec",
   "metadata": {},
   "source": [
    "### Pipeline"
   ]
  },
  {
   "cell_type": "code",
   "execution_count": 11,
   "id": "5bb33c9c",
   "metadata": {},
   "outputs": [],
   "source": [
    "train_data_path = \"/scratch/jeremy/data/train_Kidney_Lung_GEARS.h5ad\"\n",
    "threshold = 0.2\n",
    "k = 20\n",
    "data_path = \"/scratch/jeremy/data/graphs/\"\n",
    "data_name = \"mca_GEARS_kidney_lung_train\""
   ]
  },
  {
   "cell_type": "code",
   "execution_count": 12,
   "id": "30661350",
   "metadata": {},
   "outputs": [],
   "source": [
    "# Load Data\n",
    "train_data = sc.read_h5ad(train_data_path)"
   ]
  },
  {
   "cell_type": "code",
   "execution_count": 13,
   "id": "efbe8ce2",
   "metadata": {},
   "outputs": [],
   "source": [
    "# Create Co-Expression Graph\n",
    "co_express_df = get_coexpression_network_from_train(train_data,threshold,k,data_path,data_name)"
   ]
  },
  {
   "cell_type": "markdown",
   "id": "0236090d",
   "metadata": {},
   "source": [
    "### GEARS Graph Class"
   ]
  },
  {
   "cell_type": "code",
   "execution_count": 3,
   "id": "c0d1d1db",
   "metadata": {},
   "outputs": [],
   "source": [
    "class GeneSimNetwork():\n",
    "    def __init__(self, edge_list:pd.DataFrame, node_map:dict, gene_list=None):\n",
    "        # Create Graph\n",
    "        self.edge_list = edge_list\n",
    "        self.G = nx.from_pandas_edgelist(self.edge_list, source='source',\n",
    "                        target='target', edge_attr=['importance'],\n",
    "                        create_using=nx.DiGraph())\n",
    "        # Save gene list\n",
    "        if gene_list == None:\n",
    "            self.gene_list = sorted(list(set(self.G.nodes)))\n",
    "        else:\n",
    "            self.gene_list = gene_list\n",
    "        for n in self.gene_list:\n",
    "            if n not in self.G.nodes():\n",
    "                self.G.add_node(n)\n",
    "        # Convert data to tensor\n",
    "        self.node_map = node_map\n",
    "        edge_index_ = [(node_map[e[0]], node_map[e[1]]) for e in\n",
    "                      self.G.edges]\n",
    "        self.edge_index = torch.tensor(edge_index_, dtype=torch.long).T\n",
    "        edge_attr = nx.get_edge_attributes(self.G, 'importance') \n",
    "        importance = np.array([edge_attr[e] for e in self.G.edges])\n",
    "        self.edge_weight = torch.Tensor(importance)"
   ]
  },
  {
   "cell_type": "code",
   "execution_count": 45,
   "id": "72ebb8b6",
   "metadata": {},
   "outputs": [],
   "source": [
    "with open(\"/scratch/jeremy/data/graphs/raw/gene_to_id.pkl\", 'rb') as handle:\n",
    "    node_map = pickle.load(handle)"
   ]
  },
  {
   "cell_type": "code",
   "execution_count": 46,
   "id": "0e905073",
   "metadata": {},
   "outputs": [],
   "source": [
    "sim_network = GeneSimNetwork(co_express_df, node_map)"
   ]
  },
  {
   "cell_type": "markdown",
   "id": "633c2afd",
   "metadata": {},
   "source": [
    "## Gene-Ontology"
   ]
  },
  {
   "cell_type": "markdown",
   "id": "7b74e5a5",
   "metadata": {},
   "source": [
    "### GEARS Methods"
   ]
  },
  {
   "cell_type": "code",
   "execution_count": 54,
   "id": "b642918a",
   "metadata": {},
   "outputs": [],
   "source": [
    "def dataverse_download(url, save_path):\n",
    "    \"\"\"dataverse download helper with progress bar\n",
    "    Args:\n",
    "        url (str): the url of the dataset\n",
    "        path (str): the path to save the dataset\n",
    "    \"\"\"\n",
    "    \n",
    "    if os.path.exists(save_path):\n",
    "        print('Found local copy...')\n",
    "    else:\n",
    "        print(\"Downloading...\")\n",
    "        response = requests.get(url, stream=True)\n",
    "        total_size_in_bytes= int(response.headers.get('content-length', 0))\n",
    "        block_size = 1024\n",
    "        progress_bar = tqdm(total=total_size_in_bytes, unit='iB', unit_scale=True)\n",
    "        with open(save_path, 'wb') as file:\n",
    "            for data in response.iter_content(block_size):\n",
    "                progress_bar.update(len(data))\n",
    "                file.write(data)\n",
    "        progress_bar.close()\n",
    "\n",
    "        \n",
    "def zip_data_download_wrapper(url, save_path, data_path):\n",
    "\n",
    "    if os.path.exists(save_path):\n",
    "        print('Found local copy...')\n",
    "    else:\n",
    "        dataverse_download(url, save_path + '.zip')\n",
    "        print('Extracting zip file...')\n",
    "        with ZipFile((save_path + '.zip'), 'r') as zip:\n",
    "            zip.extractall(path = data_path)\n",
    "        print(\"Done!\")  \n",
    "        \n",
    "def tar_data_download_wrapper(url, save_path, data_path):\n",
    "\n",
    "    if os.path.exists(save_path):\n",
    "        print('Found local copy...')\n",
    "    else:\n",
    "        dataverse_download(url, save_path + '.tar.gz')\n",
    "        print('Extracting tar file...')\n",
    "        print(save_path  + '.tar.gz')\n",
    "        with tarfile.open(save_path  + '.tar.gz') as tar:\n",
    "            tar.extractall(path= data_path)\n",
    "        print(\"Done!\")  "
   ]
  },
  {
   "cell_type": "markdown",
   "id": "04bac39c",
   "metadata": {},
   "source": [
    "### Download GEARS GO"
   ]
  },
  {
   "cell_type": "code",
   "execution_count": null,
   "id": "1f434b4e",
   "metadata": {},
   "outputs": [],
   "source": [
    "data_path = \"/scratch/jeremy/data/graphs/raw/\"\n",
    "server_path = 'https://dataverse.harvard.edu/api/access/datafile/6934319'"
   ]
  },
  {
   "cell_type": "code",
   "execution_count": null,
   "id": "d60375d1",
   "metadata": {},
   "outputs": [],
   "source": [
    "tar_data_download_wrapper(server_path, os.path.join(data_path, 'go_essential_all'),data_path)"
   ]
  },
  {
   "cell_type": "markdown",
   "id": "667f18a7",
   "metadata": {},
   "source": [
    "### Pipeline"
   ]
  },
  {
   "cell_type": "code",
   "execution_count": 142,
   "id": "29e8a3f7",
   "metadata": {},
   "outputs": [],
   "source": [
    "# Input paths\n",
    "mca_path = \"/scratch/jeremy/data/mouse_cell_atlas_processed.h5ad\"\n",
    "GEARS_go_path = \"/scratch/jeremy/data/graphs/raw/GEARS_basic_GO.csv\"\n",
    "gene2go_path = \"/scratch/jeremy/data/graphs/raw/gene2go_all.pkl\"\n",
    "# Output paths\n",
    "gene_to_id_path = \"/scratch/jeremy/data/graphs/raw/gene_to_id.pkl\"\n",
    "id_to_gene_path = \"/scratch/jeremy/data/graphs/raw/id_to_gene.pkl\"\n",
    "mca_go_graph_path = \"/scratch/jeremy/data/graphs/raw/mca_go_graph.csv\""
   ]
  },
  {
   "cell_type": "code",
   "execution_count": 113,
   "id": "454f5e79",
   "metadata": {},
   "outputs": [
    {
     "name": "stdout",
     "output_type": "stream",
     "text": [
      "There are 22959 genes in the MCA dataset.\n"
     ]
    }
   ],
   "source": [
    "# Load MCA gene list\n",
    "mca_data = sc.read_h5ad(mca_path)\n",
    "mca_genes = set([g.upper() for g in sc_data.var_names])\n",
    "print(f\"There are {len(mca_genes)} genes in the MCA dataset.\")"
   ]
  },
  {
   "cell_type": "code",
   "execution_count": 114,
   "id": "2dc595a7",
   "metadata": {},
   "outputs": [
    {
     "name": "stdout",
     "output_type": "stream",
     "text": [
      "There are 9671 genes in the GEARS Graph Ontology.\n"
     ]
    }
   ],
   "source": [
    "# Load Gene-Ontology graph used by default in GEARS\n",
    "df_jaccard = pd.read_csv(GEARS_go_path)\n",
    "df_out = df_jaccard.groupby('target').apply(lambda x: x.nlargest(k + 1,['importance'])).reset_index(drop = True)\n",
    "GEARS_GO_genes = set(df_out.source.values)\n",
    "print(f\"There are {len(GEARS_GO_genes)} genes in the GEARS Graph Ontology.\")"
   ]
  },
  {
   "cell_type": "code",
   "execution_count": 115,
   "id": "cb914cca",
   "metadata": {},
   "outputs": [
    {
     "name": "stdout",
     "output_type": "stream",
     "text": [
      "There are 67832 genes in the Gene2GO mapping.\n"
     ]
    }
   ],
   "source": [
    "# Load Gene - Ontology ID mapping\n",
    "with open(gene2go_path, 'rb') as f:\n",
    "    gene2go = pickle.load(f)\n",
    "print(f\"There are {len(gene2go)} genes in the Gene2GO mapping.\")"
   ]
  },
  {
   "cell_type": "markdown",
   "id": "bc843b30",
   "metadata": {},
   "source": [
    "There are several ways we could go starting from here:\n",
    "- Take the gene ontology and the gene2go mapping to create a broader graph (twice more cover) compared to the one from GEARS\n",
    "- Take GEARS GO, but keep all genes. We just create nodes without any edges for the extra ones --> high bias, maybe not good\n",
    "- Take GEARS GO, filter out genes from the MCA dataset that are not present in the graph to restrict analysis.\n",
    "\n",
    "For now on, we will try as first step the last option."
   ]
  },
  {
   "cell_type": "code",
   "execution_count": 136,
   "id": "d99f668d",
   "metadata": {},
   "outputs": [
    {
     "name": "stdout",
     "output_type": "stream",
     "text": [
      "There are 8179 genes in the final gene set.\n"
     ]
    }
   ],
   "source": [
    "# MCA restricted gene set\n",
    "final_gene_set = mca_genes.intersection(GEARS_GO_genes)\n",
    "print(f\"There are {len(final_gene_set)} genes in the final gene set.\")\n",
    "# Create Gene Mappings\n",
    "gene_to_id = dict([(g,i) for i,g in enumerate(sorted(list(final_gene_set)))])\n",
    "id_to_gene = dict([(i,g) for i,g in enumerate(sorted(list(final_gene_set)))])\n",
    "# Save Gene Mappings\n",
    "with open(gene_to_id_path, 'wb') as handle:\n",
    "    pickle.dump(gene_to_id, handle)\n",
    "with open(id_to_gene_path, 'wb') as handle:\n",
    "    pickle.dump(id_to_gene, handle)"
   ]
  },
  {
   "cell_type": "code",
   "execution_count": 143,
   "id": "b21528ec",
   "metadata": {},
   "outputs": [],
   "source": [
    "# Saving MCA GO graph \n",
    "mca_go_graph = df_out.query(\"source in @final_gene_set and target in @final_gene_set\")\n",
    "mca_go_graph.to_csv(mca_go_graph_path)"
   ]
  },
  {
   "cell_type": "markdown",
   "id": "1830a6ca",
   "metadata": {},
   "source": [
    "## PyG Data Methods"
   ]
  },
  {
   "cell_type": "code",
   "execution_count": 55,
   "id": "16d46c78",
   "metadata": {},
   "outputs": [],
   "source": [
    "Data?"
   ]
  },
  {
   "cell_type": "markdown",
   "id": "32b974db",
   "metadata": {},
   "source": [
    "---"
   ]
  }
 ],
 "metadata": {
  "kernelspec": {
   "display_name": "Python 3 (ipykernel)",
   "language": "python",
   "name": "python3"
  },
  "language_info": {
   "codemirror_mode": {
    "name": "ipython",
    "version": 3
   },
   "file_extension": ".py",
   "mimetype": "text/x-python",
   "name": "python",
   "nbconvert_exporter": "python",
   "pygments_lexer": "ipython3",
   "version": "3.8.16"
  }
 },
 "nbformat": 4,
 "nbformat_minor": 5
}
